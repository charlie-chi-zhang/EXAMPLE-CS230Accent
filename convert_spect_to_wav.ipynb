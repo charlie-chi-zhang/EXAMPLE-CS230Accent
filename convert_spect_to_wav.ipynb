{
 "cells": [
  {
   "cell_type": "code",
   "execution_count": 1,
   "metadata": {},
   "outputs": [
    {
     "name": "stderr",
     "output_type": "stream",
     "text": [
      "C:\\Users\\lashen\\AppData\\Local\\Continuum\\anaconda3\\lib\\site-packages\\pydub\\utils.py:165: RuntimeWarning: Couldn't find ffmpeg or avconv - defaulting to ffmpeg, but may not work\n",
      "  warn(\"Couldn't find ffmpeg or avconv - defaulting to ffmpeg, but may not work\", RuntimeWarning)\n"
     ]
    }
   ],
   "source": [
    "import sys\n",
    "import numpy as np\n",
    "from pydub import AudioSegment\n",
    "import matplotlib.pyplot as plt\n",
    "from scipy import signal\n",
    "from scipy.io import wavfile\n",
    "import librosa\n",
    "from librosa import display\n",
    "import glob"
   ]
  },
  {
   "cell_type": "markdown",
   "metadata": {},
   "source": [
    "# Convert Spectrogram to Audio"
   ]
  },
  {
   "cell_type": "markdown",
   "metadata": {},
   "source": [
    "#### Perform ISTFT on spectrogram "
   ]
  },
  {
   "cell_type": "code",
   "execution_count": 47,
   "metadata": {},
   "outputs": [],
   "source": [
    "def convert_spect_to_time_series(spectrogram_list):\n",
    "    \n",
    "    \n",
    "    time_series_list = []\n",
    "    \n",
    "    for spectrogram in spectrogram_list:\n",
    "        reshaped_spectrogram = np.reshape(spectrogram, (1025, 22))\n",
    "        y_hat = librosa.istft(reshaped_spectrogram)\n",
    "        time_series_list.append(y_hat)\n",
    "    \n",
    "    return time_series_list"
   ]
  },
  {
   "cell_type": "markdown",
   "metadata": {},
   "source": [
    "#### Write time series to wav file"
   ]
  },
  {
   "cell_type": "code",
   "execution_count": 90,
   "metadata": {},
   "outputs": [],
   "source": [
    "def write_time_series_to_wav(time_series, sampling_rate):\n",
    "    file_prefix = 'generated_'\n",
    "    file_names_list = []\n",
    "    \n",
    "    i = 0\n",
    "    for series in time_series:\n",
    "        \n",
    "        file_name = file_prefix + str(i) + '.wav'\n",
    "        librosa.output.write_wav(file_name, series, sampling_rate)\n",
    "        file_names_list.append(file_name)\n",
    "        i = i + 1\n",
    "        \n",
    "    return file_names_list"
   ]
  },
  {
   "cell_type": "markdown",
   "metadata": {},
   "source": [
    "#### Stitch the wav files into one time series"
   ]
  },
  {
   "cell_type": "code",
   "execution_count": 91,
   "metadata": {},
   "outputs": [],
   "source": [
    "def stitch_wavs_together(file_names):\n",
    "    \n",
    "    wav_clips = []\n",
    "    clip_file_list = glob.glob('generated_*.wav')\n",
    "    print (clip_file_list)\n",
    "    \n",
    "    for file in clip_file_list:\n",
    "        print (file)\n",
    "        clip = AudioSegment.from_wav(file)\n",
    "        wav_clips.append(clip)\n",
    "        \n",
    "    whole_clip = wav_clips[0]\n",
    "    \n",
    "    for i in range(1, len(wav_clips)):\n",
    "        whole_clip = whole_clip + wav_clips[i]\n",
    "        \n",
    "    whole_clip.export('whole_clip.wav', format='wav')\n",
    "    "
   ]
  },
  {
   "cell_type": "markdown",
   "metadata": {},
   "source": [
    "#### Main function to convert spectrograms to wav"
   ]
  },
  {
   "cell_type": "code",
   "execution_count": 94,
   "metadata": {},
   "outputs": [],
   "source": [
    "def convert_spect_to_wav(file_name):\n",
    "    spectrogram_array = np.load(file_name)\n",
    "    print (spectrogram_array.shape)\n",
    "    spectrogram_list = []\n",
    "    \n",
    "    for spectrogram in spectrogram_array:\n",
    "        #print (spectrogram.shape)\n",
    "        spectrogram_list.append(spectrogram)\n",
    "    \n",
    "    #spectrogram_list = spectrogram_array.tolist()\n",
    "    #print (spectrogram_list)\n",
    "    \n",
    "    # Convert spectrogram to time series\n",
    "    time_series = convert_spect_to_time_series(spectrogram_list)\n",
    "        \n",
    "    # Write time series out to wav files\n",
    "    file_names = write_time_series_to_wav(time_series, 22050)\n",
    "    print (file_names)\n",
    "    \n",
    "    # Piece together the wav files\n",
    "    # stitch_wavs_together(file_names)"
   ]
  },
  {
   "cell_type": "code",
   "execution_count": 95,
   "metadata": {},
   "outputs": [
    {
     "name": "stdout",
     "output_type": "stream",
     "text": [
      "(6, 205, 110)\n",
      "['generated_0.wav', 'generated_1.wav', 'generated_2.wav', 'generated_3.wav', 'generated_4.wav', 'generated_5.wav']\n"
     ]
    }
   ],
   "source": [
    "convert_spect_to_wav('../dataset_processed/bdl_spectrogram_array.npy')"
   ]
  },
  {
   "cell_type": "code",
   "execution_count": null,
   "metadata": {},
   "outputs": [],
   "source": []
  }
 ],
 "metadata": {
  "kernelspec": {
   "display_name": "Python 3",
   "language": "python",
   "name": "python3"
  },
  "language_info": {
   "codemirror_mode": {
    "name": "ipython",
    "version": 3
   },
   "file_extension": ".py",
   "mimetype": "text/x-python",
   "name": "python",
   "nbconvert_exporter": "python",
   "pygments_lexer": "ipython3",
   "version": "3.6.4"
  }
 },
 "nbformat": 4,
 "nbformat_minor": 2
}
